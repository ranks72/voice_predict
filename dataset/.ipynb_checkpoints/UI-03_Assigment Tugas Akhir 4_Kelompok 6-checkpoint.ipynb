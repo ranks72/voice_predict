{
 "cells": [
  {
   "cell_type": "markdown",
   "id": "fa43b5e7",
   "metadata": {},
   "source": [
    "# Movie Recommendation Using Clustering and Content_Based Filtering"
   ]
  },
  {
   "cell_type": "code",
   "execution_count": null,
   "id": "939df4be",
   "metadata": {},
   "outputs": [],
   "source": [
    "import pandas as pd\n",
    "import numpy as np\n",
    "import matplotlib.pyplot as plt\n",
    "import seaborn as sns"
   ]
  },
  {
   "cell_type": "code",
   "execution_count": null,
   "id": "b4042935",
   "metadata": {},
   "outputs": [],
   "source": [
    "df = pd.read_csv('IMDb_Movie_Dataset.csv', index_col=0)\n",
    "df.head()"
   ]
  },
  {
   "cell_type": "markdown",
   "id": "cf418267",
   "metadata": {},
   "source": [
    "## K-Means Clustering"
   ]
  },
  {
   "cell_type": "code",
   "execution_count": null,
   "id": "f6ee06a1",
   "metadata": {},
   "outputs": [],
   "source": [
    "from sklearn.cluster import KMeans\n",
    "from sklearn.preprocessing import MinMaxScaler\n",
    "from datetime import date\n",
    "import tensorflow as tf\n",
    "import random"
   ]
  },
  {
   "cell_type": "code",
   "execution_count": null,
   "id": "299468f3",
   "metadata": {},
   "outputs": [],
   "source": [
    "# get columns with numerical value\n",
    "data_num = df.drop(df.columns[[0, 3, 5, 6]], axis=1)\n",
    "data_num.head()"
   ]
  },
  {
   "cell_type": "code",
   "execution_count": null,
   "id": "4aac6cfa",
   "metadata": {},
   "outputs": [],
   "source": [
    "# convert release year into movie's age\n",
    "current_year = date.today().year\n",
    "age = []\n",
    "for i in data_num['Year']:\n",
    "    age.append(current_year - i)\n",
    "age = pd.DataFrame(age, columns=['Year'])\n",
    "data_num['Year'] = age['Year']\n",
    "data_num.head()"
   ]
  },
  {
   "cell_type": "code",
   "execution_count": null,
   "id": "9aafc75e",
   "metadata": {},
   "outputs": [],
   "source": [
    "scaler = MinMaxScaler()\n",
    "features = scaler.fit_transform(data_num)"
   ]
  },
  {
   "cell_type": "code",
   "execution_count": null,
   "id": "6f7dab60",
   "metadata": {},
   "outputs": [],
   "source": [
    "inertia = []\n",
    "for i in range(1,21):\n",
    "    kmeans = KMeans(n_clusters= i, init='k-means++', random_state=0)\n",
    "    kmeans.fit(features)\n",
    "    inertia.append(kmeans.inertia_)"
   ]
  },
  {
   "cell_type": "code",
   "execution_count": null,
   "id": "ce6e571f",
   "metadata": {},
   "outputs": [],
   "source": [
    "#Visualizing the ELBOW method to get the optimal value of K\n",
    "plt.figure(figsize=(20, 8))\n",
    "plt.plot(range(1,21), inertia)\n",
    "plt.title('The Elbow Method')\n",
    "plt.xlabel('number of clusters')\n",
    "plt.ylabel('inertia')\n",
    "plt.show()"
   ]
  },
  {
   "cell_type": "code",
   "execution_count": null,
   "id": "37f400d7",
   "metadata": {},
   "outputs": [],
   "source": [
    "# to initialize and determine the starting centroids of the clusters\n",
    "tf.compat.v1.random.set_random_seed(1234)"
   ]
  },
  {
   "cell_type": "code",
   "execution_count": null,
   "id": "c1db5bd0",
   "metadata": {},
   "outputs": [],
   "source": [
    "# K-Means clustering\n",
    "kmeans = KMeans(\n",
    "        n_clusters=10, init=\"k-means++\",\n",
    "        n_init=10,\n",
    "        tol=1e-04, random_state=42\n",
    "    )\n",
    "kmeans.fit(features)\n",
    "df['Label']=kmeans.labels_\n",
    "df.head()"
   ]
  },
  {
   "cell_type": "code",
   "execution_count": null,
   "id": "3295e3ef",
   "metadata": {},
   "outputs": [],
   "source": [
    "sns.countplot(x='Label', data=df)"
   ]
  },
  {
   "cell_type": "markdown",
   "id": "dd4fa42a",
   "metadata": {},
   "source": [
    "## Content-Based Filtering"
   ]
  },
  {
   "cell_type": "code",
   "execution_count": null,
   "id": "35bbc246",
   "metadata": {},
   "outputs": [],
   "source": [
    "from sklearn.feature_extraction.text import TfidfVectorizer\n",
    "from sklearn.metrics.pairwise import linear_kernel"
   ]
  },
  {
   "cell_type": "code",
   "execution_count": null,
   "id": "60188418",
   "metadata": {},
   "outputs": [],
   "source": [
    "# concatenate Title, Genre, Director, & Stars columns\n",
    "data_string = []\n",
    "for i in range(len(df)):\n",
    "    tmp = ''\n",
    "    tmp = str(df['Title'][i]) + ' ' + str(df['Genre'][i]) + ' ' + str(df['Director'][i]) + ' ' + str(df['Stars'][i])\n",
    "    data_string.append(tmp.replace(',', ''))"
   ]
  },
  {
   "cell_type": "code",
   "execution_count": null,
   "id": "7b7bb511",
   "metadata": {},
   "outputs": [],
   "source": [
    "# calculate text similarity\n",
    "tfidf_vectorizer = TfidfVectorizer()\n",
    "matrix = tfidf_vectorizer.fit_transform(data_string)\n",
    "kernel = linear_kernel(matrix, matrix)"
   ]
  },
  {
   "cell_type": "markdown",
   "id": "ccf97b43",
   "metadata": {},
   "source": [
    "## Get Recommendation"
   ]
  },
  {
   "cell_type": "code",
   "execution_count": null,
   "id": "a68461e9",
   "metadata": {},
   "outputs": [],
   "source": [
    "def get_recommendation(movie_id):\n",
    "    movie_list = list(enumerate(kernel[movie_id]))\n",
    "    movie_list = sorted(movie_list, key=lambda x: x[1], reverse=True)\n",
    "    \n",
    "    movie_cluster = df['Label'][movie_id]\n",
    "    \n",
    "    movie_rec = []\n",
    "    for i in movie_list:\n",
    "        if len(movie_rec) == 11:\n",
    "            break\n",
    "        if df[\"Label\"][i[0]] == movie_cluster:\n",
    "            movie_rec.append(i[0])\n",
    "        \n",
    "    return movie_rec[1:]"
   ]
  },
  {
   "cell_type": "markdown",
   "id": "90b7e80e",
   "metadata": {},
   "source": [
    "Test movie recommendation"
   ]
  },
  {
   "cell_type": "code",
   "execution_count": null,
   "id": "fe14608c",
   "metadata": {},
   "outputs": [],
   "source": [
    "movie = 'Iron Man'\n",
    "movie_index = df.index[df['Title'] == movie].values[0]\n",
    "movie_rec = get_recommendation(movie_index)\n",
    "\n",
    "print(\"Movie recommendation:\")\n",
    "rec = []\n",
    "for i in movie_rec:\n",
    "    tmp = []\n",
    "    tmp.append(df['Title'][i])\n",
    "    tmp.append(df['Year'][i])\n",
    "    tmp.append(df['Label'][i])\n",
    "    rec.append(tmp)\n",
    "rec = pd.DataFrame(rec, columns=['Title', 'Year', 'Label'])\n",
    "rec"
   ]
  },
  {
   "cell_type": "markdown",
   "id": "a0537748",
   "metadata": {},
   "source": [
    "## Preprocess Movie Recommendation Database"
   ]
  },
  {
   "cell_type": "code",
   "execution_count": null,
   "id": "f773982d",
   "metadata": {},
   "outputs": [],
   "source": [
    "# save recommendation on every movie\n",
    "movie_rec = []\n",
    "\n",
    "for i in range(len(kernel)):\n",
    "    movie_cluster = df['Label'][i]\n",
    "    \n",
    "    movie_list = list(enumerate(kernel[i]))\n",
    "    movie_list = sorted(movie_list, key=lambda x: x[1], reverse=True)\n",
    "    \n",
    "    movie_rec_list = []\n",
    "    for j in range(1, len(movie_list)):\n",
    "        if len(movie_rec_list) == 11:\n",
    "            break\n",
    "        if df[\"Label\"][movie_list[j][0]] == movie_cluster:\n",
    "            movie_rec_list.append(movie_list[j][0])\n",
    "        \n",
    "    movie_rec.append(movie_rec_list)\n",
    "\n",
    "# convert to pandas dataframe\n",
    "movie_rec = pd.DataFrame(movie_rec)\n",
    "movie_rec.head()"
   ]
  },
  {
   "cell_type": "code",
   "execution_count": null,
   "id": "5b58e0b6",
   "metadata": {},
   "outputs": [],
   "source": [
    "# save dataset to csv\n",
    "movie_rec.to_csv('movie_recommendation_dataset.csv', index=False)"
   ]
  },
  {
   "cell_type": "code",
   "execution_count": null,
   "id": "57296fda",
   "metadata": {},
   "outputs": [],
   "source": []
  }
 ],
 "metadata": {
  "kernelspec": {
   "display_name": "Python 3",
   "language": "python",
   "name": "python3"
  },
  "language_info": {
   "codemirror_mode": {
    "name": "ipython",
    "version": 3
   },
   "file_extension": ".py",
   "mimetype": "text/x-python",
   "name": "python",
   "nbconvert_exporter": "python",
   "pygments_lexer": "ipython3",
   "version": "3.8.8"
  }
 },
 "nbformat": 4,
 "nbformat_minor": 5
}
