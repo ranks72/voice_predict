{
 "cells": [
  {
   "cell_type": "markdown",
   "metadata": {
    "id": "NAnyaKPCvzQl"
   },
   "source": [
    "# **Mengumpulkan dataset film dengan web-scrapping**\n"
   ]
  },
  {
   "cell_type": "markdown",
   "metadata": {
    "id": "f_-o06Z3TdMY"
   },
   "source": [
    "## **1. Kode untuk Google Colab**\n"
   ]
  },
  {
   "cell_type": "markdown",
   "metadata": {
    "id": "vNFVlEyG4WOW"
   },
   "source": [
    "Install Selenium"
   ]
  },
  {
   "cell_type": "code",
   "execution_count": null,
   "metadata": {
    "colab": {
     "base_uri": "https://localhost:8080/"
    },
    "id": "9Is8rbVvU22Y",
    "outputId": "61828f4e-8ba6-4e45-d1fb-9841f4eba4db"
   },
   "outputs": [],
   "source": [
    "# install chromium, chromedriver, dan selenium\n",
    "!apt update\n",
    "!apt install chromium-chromedriver\n",
    "!pip install selenium\n",
    "\n",
    "# import selenium\n",
    "from selenium import webdriver\n",
    "from selenium.webdriver.common.keys import Keys\n",
    "from selenium.webdriver.common.by import By\n",
    "from selenium.webdriver.support.ui import WebDriverWait\n",
    "from selenium.webdriver.support import expected_conditions as EC\n",
    "\n",
    "# ganti opsi untuk menjalankan selenium secara headless\n",
    "options = webdriver.ChromeOptions()\n",
    "options.add_argument('--headless')\n",
    "options.add_argument('--no-sandbox')\n",
    "options.add_argument('--disable-dev-shm-usage')"
   ]
  },
  {
   "cell_type": "code",
   "execution_count": null,
   "metadata": {
    "colab": {
     "base_uri": "https://localhost:8080/"
    },
    "id": "5zx5RBaizhS5",
    "outputId": "49f779f5-1610-41b8-d430-832d2607048d"
   },
   "outputs": [],
   "source": [
    "! pip install tqdm\n",
    "from tqdm.notebook import tqdm"
   ]
  },
  {
   "cell_type": "markdown",
   "metadata": {
    "id": "VRuvrhmO4ouN"
   },
   "source": [
    "Web-scrape"
   ]
  },
  {
   "cell_type": "code",
   "execution_count": null,
   "metadata": {
    "colab": {
     "base_uri": "https://localhost:8080/",
     "height": 49,
     "referenced_widgets": [
      "92cb1c1210764804820d8a7829eb835c",
      "33f01263773a40f5b746e0d66dec071e",
      "1ff1c3fac5e443aba854f644d96b68ab",
      "19af2626f66a4ae6adc5af52ed93c933",
      "f1479b7e6f604dc89f9a5857444736d1",
      "f77be1fc7ecf4fc5ba6ab70f116c01f1",
      "3d7cb73869804ea9a9a43b6db872ae3a",
      "bf7bc6ca05944750adf540e4c7653232",
      "a4477c3d31c14fdfb9a01b298c8addc5",
      "13b58067e52b486f8338c9ccbe6dfe60",
      "9ca0609c882c4ada898004c25fd22a64"
     ]
    },
    "id": "YDAl5p67XBT-",
    "outputId": "5e683d8b-c9cc-4dff-f811-68e3d4bebc3e"
   },
   "outputs": [],
   "source": [
    "# akses website IMDb \n",
    "driver = webdriver.Chrome(options=options)\n",
    "driver.get(\"https://www.imdb.com/search/title/?title_type=feature&num_votes=10000,&sort=user_rating,desc&ref_=adv_prv\")\n",
    "\n",
    "list_of_movies = []\n",
    "page = 1\n",
    "\n",
    "# jumlah data = 9370\n",
    "# jumlah data per halaman = 50\n",
    "# jumlah halaman = 9370 / 50 = 187\n",
    "page_num = list(range(187))\n",
    "for i in tqdm(page_num):\n",
    "  # mendapatkan list film\n",
    "  movies = driver.find_elements(By.CLASS_NAME, \"lister-item\")\n",
    "\n",
    "  for movie in movies:\n",
    "    data_movies = []\n",
    "    content = movie.find_element(By.CLASS_NAME, \"lister-item-content\")\n",
    "\n",
    "    # mendapatkan judul dan tahun\n",
    "    header = content.find_element(By.CLASS_NAME, \"lister-item-header\")\n",
    "    title = header.find_element(By.TAG_NAME, \"a\").text\n",
    "    date = header.find_element(By.CLASS_NAME, \"lister-item-year\").text.split()\n",
    "    year = date[-1].strip(\"()\")\n",
    "    data_movies.append(title)\n",
    "    data_movies.append(year)\n",
    "\n",
    "    # mendapatkan data film\n",
    "    data = content.find_elements(By.TAG_NAME, \"p\")\n",
    "    \n",
    "    # mendapatkan durasi, genre\n",
    "    #age = data[0].find_element(By.CLASS_NAME, \"certificate\").text\n",
    "    runtime = data[0].find_element(By.CLASS_NAME, \"runtime\").text.split()\n",
    "    genre_list = data[0].find_element(By.CLASS_NAME, \"genre\").text.split(\", \")\n",
    "    genre = []\n",
    "    for _ in genre_list:\n",
    "      genre.append(_)\n",
    "    data_movies.append(runtime[0])\n",
    "    data_movies.append(genre)\n",
    "\n",
    "    # mendapatkan rating\n",
    "    rating = content.find_element(By.NAME, \"ir\").get_attribute(\"data-value\")\n",
    "    data_movies.append(rating)\n",
    "\n",
    "    # mendapatkan director dan pemain film\n",
    "    data2 = data[2].find_elements(By.TAG_NAME, \"a\")\n",
    "    director = data2[0].text\n",
    "    stars = []\n",
    "    for i in range(1, len(data2)):\n",
    "      stars.append(data2[i].text)\n",
    "    data_movies.append(director)\n",
    "    data_movies.append(stars)\n",
    "\n",
    "    # mendapatkan jumlah orang yang melakukan vote\n",
    "    vote = data[3].find_element(By.NAME, \"nv\").get_attribute(\"data-value\")\n",
    "    data_movies.append(vote)\n",
    "    \n",
    "    list_of_movies.append(data_movies)\n",
    "\n",
    "  # navigasi web-scrape ke halaman selanjutnya\n",
    "  if len(driver.find_elements(By.CSS_SELECTOR, \"a.next-page\")) > 0:\n",
    "    page += 50\n",
    "    url = \"https://www.imdb.com/search/title/?title_type=feature&num_votes=10000,&sort=user_rating,desc&start={}&ref_=adv_nxt\".format(page)\n",
    "    driver.get(url)\n",
    "  else:\n",
    "    break"
   ]
  },
  {
   "cell_type": "markdown",
   "metadata": {
    "id": "_l8AnFgavoEX"
   },
   "source": [
    "# **Membuat dataset dalam bentuk Pandas DataFrame**"
   ]
  },
  {
   "cell_type": "code",
   "execution_count": null,
   "metadata": {
    "id": "nQn8z145F8nA"
   },
   "outputs": [],
   "source": [
    "import pandas as pd"
   ]
  },
  {
   "cell_type": "code",
   "execution_count": null,
   "metadata": {
    "id": "opTxn30Ssf-m"
   },
   "outputs": [],
   "source": [
    "# convert list menjadi dataframe\n",
    "df = pd.DataFrame(list_of_movies, columns=[\"Title\", \"Year\", \"Runtime\", \"Genre\", \"Rating\", \"Director\", \"Stars\", \"Vote\"])"
   ]
  },
  {
   "cell_type": "code",
   "execution_count": null,
   "metadata": {
    "colab": {
     "base_uri": "https://localhost:8080/",
     "height": 476
    },
    "id": "e-AtSw8_EacK",
    "outputId": "a6c322ca-e737-41bc-abe8-2ef55d5e4b4a"
   },
   "outputs": [],
   "source": [
    "# convert type data agar sesuai\n",
    "df[\"Year\"] = df[\"Year\"].astype(int)\n",
    "df[\"Runtime\"] = df[\"Runtime\"].astype(int)\n",
    "df[\"Rating\"] = df[\"Rating\"].astype(float)\n",
    "df[\"Vote\"] = df[\"Vote\"].astype(int)\n",
    "df"
   ]
  },
  {
   "cell_type": "markdown",
   "metadata": {
    "id": "szUgpIJjar5D"
   },
   "source": [
    "Import-Eksport dataset"
   ]
  },
  {
   "cell_type": "code",
   "execution_count": null,
   "metadata": {
    "colab": {
     "base_uri": "https://localhost:8080/"
    },
    "id": "RRgxfFScabEf",
    "outputId": "b227bdbb-c7a2-46aa-f51d-53bcc58e8bb2"
   },
   "outputs": [],
   "source": [
    "# mount gdrive\n",
    "from google.colab import drive\n",
    "drive.mount('drive')"
   ]
  },
  {
   "cell_type": "code",
   "execution_count": null,
   "metadata": {
    "id": "08lf3n72a1ru"
   },
   "outputs": [],
   "source": [
    "# Eksport ke .csv\n",
    "df.to_csv('IMDb_Movie_Dataset.csv')\n",
    "!cp IMDb_Movie_Dataset.csv \"drive/My Drive/Colab Notebooks/\""
   ]
  },
  {
   "cell_type": "code",
   "execution_count": null,
   "metadata": {
    "id": "VvgiY84XFGMG"
   },
   "outputs": [],
   "source": [
    "# import dataset dari gdrive\n",
    "df = pd.read_csv('drive/My Drive/Colab Notebooks/IMDb_Movie_Dataset.csv')"
   ]
  },
  {
   "cell_type": "markdown",
   "metadata": {
    "id": "tUaRE3mB_qWA"
   },
   "source": [
    "# **Telaah Data**"
   ]
  },
  {
   "cell_type": "code",
   "execution_count": null,
   "metadata": {
    "id": "Obs_yvkzBytm"
   },
   "outputs": [],
   "source": [
    "import seaborn as sns\n",
    "import matplotlib.pyplot as plt"
   ]
  },
  {
   "cell_type": "code",
   "execution_count": null,
   "metadata": {
    "colab": {
     "base_uri": "https://localhost:8080/"
    },
    "id": "IoLeH_5Y_7Vx",
    "outputId": "46180fcc-4760-46b0-fba6-1b43d2d33ec1"
   },
   "outputs": [],
   "source": [
    "df.info()"
   ]
  },
  {
   "cell_type": "code",
   "execution_count": null,
   "metadata": {
    "colab": {
     "base_uri": "https://localhost:8080/",
     "height": 300
    },
    "id": "qksL-ZEM_xef",
    "outputId": "6f0b07ce-5f97-4f7a-a981-7175f16d4c5f"
   },
   "outputs": [],
   "source": [
    "df.describe()"
   ]
  },
  {
   "cell_type": "code",
   "execution_count": null,
   "metadata": {
    "colab": {
     "base_uri": "https://localhost:8080/",
     "height": 684
    },
    "id": "Z-5G3ZZr_hHq",
    "outputId": "83724f09-3566-4476-fb61-5eb3a9fe7539"
   },
   "outputs": [],
   "source": [
    "# melihat distribusi film berdasarkan tahun rilis\n",
    "fig, ax = plt.subplots(figsize=(20,8))\n",
    "ax.set_title('Distribusi Film setiap tahun')\n",
    "sns.countplot(x='Year', data=df, ax=ax)\n",
    "plt.xticks(rotation=90)"
   ]
  },
  {
   "cell_type": "code",
   "execution_count": null,
   "metadata": {
    "colab": {
     "base_uri": "https://localhost:8080/"
    },
    "id": "f2LTeo54ImoA",
    "outputId": "c2814bbf-00a3-4591-ec04-438c8708b743"
   },
   "outputs": [],
   "source": [
    "# judul film dengan vote terbanyak (populer)\n",
    "popular = df['Vote'].idxmax()\n",
    "print(\"Film yang paling poluper yaitu {} yang dirilis pada tahun {}\".format(df['Title'][popular], df['Year'][popular]))\n",
    "\n",
    "# judul film dengan vote paling sedikit\n",
    "unpopular = df['Vote'].idxmin()\n",
    "print(\"Film yang kurang poluper yaitu {} yang dirilis pada tahun {}\".format(df['Title'][unpopular], df['Year'][unpopular]))"
   ]
  },
  {
   "cell_type": "code",
   "execution_count": null,
   "metadata": {
    "colab": {
     "base_uri": "https://localhost:8080/"
    },
    "id": "g6bzrrOdHaHA",
    "outputId": "c8f23eae-1ea8-4ae9-e92a-ebf03cc45229"
   },
   "outputs": [],
   "source": [
    "# judul film dengan durasi terpanjang\n",
    "longest = df['Runtime'].idxmax()\n",
    "print(\"Film dengan durasi terpanjang adalah {} dengan durasi {} menit\".format(df['Title'][longest], df['Runtime'][longest]))\n",
    "\n",
    "# judul film dengan durasi terpendek\n",
    "sortest = df['Runtime'].idxmin()\n",
    "print(\"Film dengan durasi terpendek adalah {} dengan durasi {} menit\".format(df['Title'][sortest], df['Runtime'][sortest]))"
   ]
  },
  {
   "cell_type": "code",
   "execution_count": null,
   "metadata": {
    "colab": {
     "base_uri": "https://localhost:8080/"
    },
    "id": "f0oiKGJZQC6n",
    "outputId": "010d3d97-dbff-43fe-9bb4-5e1440cf74ae"
   },
   "outputs": [],
   "source": [
    "# 10 director dengan film terbanyak\n",
    "director_film = df['Director'].value_counts()\n",
    "director_film.head(10)"
   ]
  }
 ],
 "metadata": {
  "colab": {
   "collapsed_sections": [],
   "name": "Telaah Data Tugas Akhir 3.ipynb",
   "provenance": []
  },
  "kernelspec": {
   "display_name": "Python 3",
   "language": "python",
   "name": "python3"
  },
  "language_info": {
   "codemirror_mode": {
    "name": "ipython",
    "version": 3
   },
   "file_extension": ".py",
   "mimetype": "text/x-python",
   "name": "python",
   "nbconvert_exporter": "python",
   "pygments_lexer": "ipython3",
   "version": "3.8.8"
  },
  "widgets": {
   "application/vnd.jupyter.widget-state+json": {
    "13b58067e52b486f8338c9ccbe6dfe60": {
     "model_module": "@jupyter-widgets/controls",
     "model_module_version": "1.5.0",
     "model_name": "DescriptionStyleModel",
     "state": {
      "_model_module": "@jupyter-widgets/controls",
      "_model_module_version": "1.5.0",
      "_model_name": "DescriptionStyleModel",
      "_view_count": null,
      "_view_module": "@jupyter-widgets/base",
      "_view_module_version": "1.2.0",
      "_view_name": "StyleView",
      "description_width": ""
     }
    },
    "19af2626f66a4ae6adc5af52ed93c933": {
     "model_module": "@jupyter-widgets/controls",
     "model_module_version": "1.5.0",
     "model_name": "FloatProgressModel",
     "state": {
      "_dom_classes": [],
      "_model_module": "@jupyter-widgets/controls",
      "_model_module_version": "1.5.0",
      "_model_name": "FloatProgressModel",
      "_view_count": null,
      "_view_module": "@jupyter-widgets/controls",
      "_view_module_version": "1.5.0",
      "_view_name": "ProgressView",
      "bar_style": "danger",
      "description": "",
      "description_tooltip": null,
      "layout": "IPY_MODEL_a4477c3d31c14fdfb9a01b298c8addc5",
      "max": 188,
      "min": 0,
      "orientation": "horizontal",
      "style": "IPY_MODEL_bf7bc6ca05944750adf540e4c7653232",
      "value": 187
     }
    },
    "1ff1c3fac5e443aba854f644d96b68ab": {
     "model_module": "@jupyter-widgets/controls",
     "model_module_version": "1.5.0",
     "model_name": "HTMLModel",
     "state": {
      "_dom_classes": [],
      "_model_module": "@jupyter-widgets/controls",
      "_model_module_version": "1.5.0",
      "_model_name": "HTMLModel",
      "_view_count": null,
      "_view_module": "@jupyter-widgets/controls",
      "_view_module_version": "1.5.0",
      "_view_name": "HTMLView",
      "description": "",
      "description_tooltip": null,
      "layout": "IPY_MODEL_3d7cb73869804ea9a9a43b6db872ae3a",
      "placeholder": "​",
      "style": "IPY_MODEL_f77be1fc7ecf4fc5ba6ab70f116c01f1",
      "value": " 99%"
     }
    },
    "33f01263773a40f5b746e0d66dec071e": {
     "model_module": "@jupyter-widgets/base",
     "model_module_version": "1.2.0",
     "model_name": "LayoutModel",
     "state": {
      "_model_module": "@jupyter-widgets/base",
      "_model_module_version": "1.2.0",
      "_model_name": "LayoutModel",
      "_view_count": null,
      "_view_module": "@jupyter-widgets/base",
      "_view_module_version": "1.2.0",
      "_view_name": "LayoutView",
      "align_content": null,
      "align_items": null,
      "align_self": null,
      "border": null,
      "bottom": null,
      "display": null,
      "flex": null,
      "flex_flow": null,
      "grid_area": null,
      "grid_auto_columns": null,
      "grid_auto_flow": null,
      "grid_auto_rows": null,
      "grid_column": null,
      "grid_gap": null,
      "grid_row": null,
      "grid_template_areas": null,
      "grid_template_columns": null,
      "grid_template_rows": null,
      "height": null,
      "justify_content": null,
      "justify_items": null,
      "left": null,
      "margin": null,
      "max_height": null,
      "max_width": null,
      "min_height": null,
      "min_width": null,
      "object_fit": null,
      "object_position": null,
      "order": null,
      "overflow": null,
      "overflow_x": null,
      "overflow_y": null,
      "padding": null,
      "right": null,
      "top": null,
      "visibility": null,
      "width": null
     }
    },
    "3d7cb73869804ea9a9a43b6db872ae3a": {
     "model_module": "@jupyter-widgets/base",
     "model_module_version": "1.2.0",
     "model_name": "LayoutModel",
     "state": {
      "_model_module": "@jupyter-widgets/base",
      "_model_module_version": "1.2.0",
      "_model_name": "LayoutModel",
      "_view_count": null,
      "_view_module": "@jupyter-widgets/base",
      "_view_module_version": "1.2.0",
      "_view_name": "LayoutView",
      "align_content": null,
      "align_items": null,
      "align_self": null,
      "border": null,
      "bottom": null,
      "display": null,
      "flex": null,
      "flex_flow": null,
      "grid_area": null,
      "grid_auto_columns": null,
      "grid_auto_flow": null,
      "grid_auto_rows": null,
      "grid_column": null,
      "grid_gap": null,
      "grid_row": null,
      "grid_template_areas": null,
      "grid_template_columns": null,
      "grid_template_rows": null,
      "height": null,
      "justify_content": null,
      "justify_items": null,
      "left": null,
      "margin": null,
      "max_height": null,
      "max_width": null,
      "min_height": null,
      "min_width": null,
      "object_fit": null,
      "object_position": null,
      "order": null,
      "overflow": null,
      "overflow_x": null,
      "overflow_y": null,
      "padding": null,
      "right": null,
      "top": null,
      "visibility": null,
      "width": null
     }
    },
    "92cb1c1210764804820d8a7829eb835c": {
     "model_module": "@jupyter-widgets/controls",
     "model_module_version": "1.5.0",
     "model_name": "HBoxModel",
     "state": {
      "_dom_classes": [],
      "_model_module": "@jupyter-widgets/controls",
      "_model_module_version": "1.5.0",
      "_model_name": "HBoxModel",
      "_view_count": null,
      "_view_module": "@jupyter-widgets/controls",
      "_view_module_version": "1.5.0",
      "_view_name": "HBoxView",
      "box_style": "",
      "children": [
       "IPY_MODEL_1ff1c3fac5e443aba854f644d96b68ab",
       "IPY_MODEL_19af2626f66a4ae6adc5af52ed93c933",
       "IPY_MODEL_f1479b7e6f604dc89f9a5857444736d1"
      ],
      "layout": "IPY_MODEL_33f01263773a40f5b746e0d66dec071e"
     }
    },
    "9ca0609c882c4ada898004c25fd22a64": {
     "model_module": "@jupyter-widgets/base",
     "model_module_version": "1.2.0",
     "model_name": "LayoutModel",
     "state": {
      "_model_module": "@jupyter-widgets/base",
      "_model_module_version": "1.2.0",
      "_model_name": "LayoutModel",
      "_view_count": null,
      "_view_module": "@jupyter-widgets/base",
      "_view_module_version": "1.2.0",
      "_view_name": "LayoutView",
      "align_content": null,
      "align_items": null,
      "align_self": null,
      "border": null,
      "bottom": null,
      "display": null,
      "flex": null,
      "flex_flow": null,
      "grid_area": null,
      "grid_auto_columns": null,
      "grid_auto_flow": null,
      "grid_auto_rows": null,
      "grid_column": null,
      "grid_gap": null,
      "grid_row": null,
      "grid_template_areas": null,
      "grid_template_columns": null,
      "grid_template_rows": null,
      "height": null,
      "justify_content": null,
      "justify_items": null,
      "left": null,
      "margin": null,
      "max_height": null,
      "max_width": null,
      "min_height": null,
      "min_width": null,
      "object_fit": null,
      "object_position": null,
      "order": null,
      "overflow": null,
      "overflow_x": null,
      "overflow_y": null,
      "padding": null,
      "right": null,
      "top": null,
      "visibility": null,
      "width": null
     }
    },
    "a4477c3d31c14fdfb9a01b298c8addc5": {
     "model_module": "@jupyter-widgets/base",
     "model_module_version": "1.2.0",
     "model_name": "LayoutModel",
     "state": {
      "_model_module": "@jupyter-widgets/base",
      "_model_module_version": "1.2.0",
      "_model_name": "LayoutModel",
      "_view_count": null,
      "_view_module": "@jupyter-widgets/base",
      "_view_module_version": "1.2.0",
      "_view_name": "LayoutView",
      "align_content": null,
      "align_items": null,
      "align_self": null,
      "border": null,
      "bottom": null,
      "display": null,
      "flex": null,
      "flex_flow": null,
      "grid_area": null,
      "grid_auto_columns": null,
      "grid_auto_flow": null,
      "grid_auto_rows": null,
      "grid_column": null,
      "grid_gap": null,
      "grid_row": null,
      "grid_template_areas": null,
      "grid_template_columns": null,
      "grid_template_rows": null,
      "height": null,
      "justify_content": null,
      "justify_items": null,
      "left": null,
      "margin": null,
      "max_height": null,
      "max_width": null,
      "min_height": null,
      "min_width": null,
      "object_fit": null,
      "object_position": null,
      "order": null,
      "overflow": null,
      "overflow_x": null,
      "overflow_y": null,
      "padding": null,
      "right": null,
      "top": null,
      "visibility": null,
      "width": null
     }
    },
    "bf7bc6ca05944750adf540e4c7653232": {
     "model_module": "@jupyter-widgets/controls",
     "model_module_version": "1.5.0",
     "model_name": "ProgressStyleModel",
     "state": {
      "_model_module": "@jupyter-widgets/controls",
      "_model_module_version": "1.5.0",
      "_model_name": "ProgressStyleModel",
      "_view_count": null,
      "_view_module": "@jupyter-widgets/base",
      "_view_module_version": "1.2.0",
      "_view_name": "StyleView",
      "bar_color": null,
      "description_width": ""
     }
    },
    "f1479b7e6f604dc89f9a5857444736d1": {
     "model_module": "@jupyter-widgets/controls",
     "model_module_version": "1.5.0",
     "model_name": "HTMLModel",
     "state": {
      "_dom_classes": [],
      "_model_module": "@jupyter-widgets/controls",
      "_model_module_version": "1.5.0",
      "_model_name": "HTMLModel",
      "_view_count": null,
      "_view_module": "@jupyter-widgets/controls",
      "_view_module_version": "1.5.0",
      "_view_name": "HTMLView",
      "description": "",
      "description_tooltip": null,
      "layout": "IPY_MODEL_9ca0609c882c4ada898004c25fd22a64",
      "placeholder": "​",
      "style": "IPY_MODEL_13b58067e52b486f8338c9ccbe6dfe60",
      "value": " 187/188 [1:01:19&lt;00:19, 19.84s/it]"
     }
    },
    "f77be1fc7ecf4fc5ba6ab70f116c01f1": {
     "model_module": "@jupyter-widgets/controls",
     "model_module_version": "1.5.0",
     "model_name": "DescriptionStyleModel",
     "state": {
      "_model_module": "@jupyter-widgets/controls",
      "_model_module_version": "1.5.0",
      "_model_name": "DescriptionStyleModel",
      "_view_count": null,
      "_view_module": "@jupyter-widgets/base",
      "_view_module_version": "1.2.0",
      "_view_name": "StyleView",
      "description_width": ""
     }
    }
   }
  }
 },
 "nbformat": 4,
 "nbformat_minor": 1
}
